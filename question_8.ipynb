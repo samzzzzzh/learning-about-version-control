{
 "cells": [
  {
   "cell_type": "markdown",
   "id": "2e9cc2eb-8876-472a-95ba-61e2139e8dbb",
   "metadata": {},
   "source": [
    "mark down cell"
   ]
  },
  {
   "cell_type": "code",
   "execution_count": 1,
   "id": "1c79a6eb-b705-4296-9605-65846ff7c4a3",
   "metadata": {},
   "outputs": [
    {
     "data": {
      "text/html": [
       "2"
      ],
      "text/latex": [
       "2"
      ],
      "text/markdown": [
       "2"
      ],
      "text/plain": [
       "[1] 2"
      ]
     },
     "metadata": {},
     "output_type": "display_data"
    }
   ],
   "source": [
    "x <- 2\n",
    "x"
   ]
  },
  {
   "cell_type": "code",
   "execution_count": null,
   "id": "394019e1-3d35-4823-a481-ed1aac3e7630",
   "metadata": {},
   "outputs": [],
   "source": []
  }
 ],
 "metadata": {
  "kernelspec": {
   "display_name": "R",
   "language": "R",
   "name": "ir"
  },
  "language_info": {
   "codemirror_mode": "r",
   "file_extension": ".r",
   "mimetype": "text/x-r-source",
   "name": "R",
   "pygments_lexer": "r",
   "version": "4.1.2"
  }
 },
 "nbformat": 4,
 "nbformat_minor": 5
}
